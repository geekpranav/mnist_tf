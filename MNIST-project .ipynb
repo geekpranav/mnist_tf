{
 "cells": [
  {
   "cell_type": "code",
   "execution_count": 2,
   "id": "a359768d",
   "metadata": {},
   "outputs": [],
   "source": [
    "#MNIST data analysis \n",
    "import numpy as np \n",
    "import pandas as pd \n",
    "import tensorflow as tf \n",
    "\n",
    "\n"
   ]
  },
  {
   "cell_type": "code",
   "execution_count": 3,
   "id": "c3900f75",
   "metadata": {},
   "outputs": [
    {
     "name": "stdout",
     "output_type": "stream",
     "text": [
      "Requirement already satisfied: tensorflow_datasets in c:\\users\\candy\\anaconda3\\lib\\site-packages (4.4.0)Note: you may need to restart the kernel to use updated packages.\n",
      "Requirement already satisfied: future in c:\\users\\candy\\anaconda3\\lib\\site-packages (from tensorflow_datasets) (0.18.2)\n",
      "Requirement already satisfied: tqdm in c:\\users\\candy\\anaconda3\\lib\\site-packages (from tensorflow_datasets) (4.59.0)\n",
      "Requirement already satisfied: six in c:\\users\\candy\\anaconda3\\lib\\site-packages (from tensorflow_datasets) (1.15.0)\n",
      "Requirement already satisfied: protobuf>=3.12.2 in c:\\users\\candy\\anaconda3\\lib\\site-packages (from tensorflow_datasets) (3.19.3)\n",
      "Requirement already satisfied: tensorflow-metadata in c:\\users\\candy\\anaconda3\\lib\\site-packages (from tensorflow_datasets) (1.6.0)\n",
      "Requirement already satisfied: attrs>=18.1.0 in c:\\users\\candy\\anaconda3\\lib\\site-packages (from tensorflow_datasets) (20.3.0)\n",
      "Requirement already satisfied: numpy in c:\\users\\candy\\anaconda3\\lib\\site-packages (from tensorflow_datasets) (1.20.1)\n",
      "Requirement already satisfied: termcolor in c:\\users\\candy\\anaconda3\\lib\\site-packages (from tensorflow_datasets) (1.1.0)\n",
      "Requirement already satisfied: absl-py in c:\\users\\candy\\anaconda3\\lib\\site-packages (from tensorflow_datasets) (1.0.0)\n",
      "Requirement already satisfied: promise in c:\\users\\candy\\anaconda3\\lib\\site-packages (from tensorflow_datasets) (2.3)\n",
      "Requirement already satisfied: requests>=2.19.0 in c:\\users\\candy\\anaconda3\\lib\\site-packages (from tensorflow_datasets) (2.25.1)\n",
      "Requirement already satisfied: dill in c:\\users\\candy\\anaconda3\\lib\\site-packages (from tensorflow_datasets) (0.3.4)\n",
      "Requirement already satisfied: importlib-resources in c:\\users\\candy\\anaconda3\\lib\\site-packages (from tensorflow_datasets) (5.4.0)\n",
      "Requirement already satisfied: idna<3,>=2.5 in c:\\users\\candy\\anaconda3\\lib\\site-packages (from requests>=2.19.0->tensorflow_datasets) (2.10)\n",
      "Requirement already satisfied: certifi>=2017.4.17 in c:\\users\\candy\\anaconda3\\lib\\site-packages (from requests>=2.19.0->tensorflow_datasets) (2020.12.5)\n",
      "Requirement already satisfied: urllib3<1.27,>=1.21.1 in c:\\users\\candy\\anaconda3\\lib\\site-packages (from requests>=2.19.0->tensorflow_datasets) (1.26.4)\n",
      "Requirement already satisfied: chardet<5,>=3.0.2 in c:\\users\\candy\\anaconda3\\lib\\site-packages (from requests>=2.19.0->tensorflow_datasets) (4.0.0)\n",
      "Requirement already satisfied: zipp>=3.1.0 in c:\\users\\candy\\anaconda3\\lib\\site-packages (from importlib-resources->tensorflow_datasets) (3.4.1)\n",
      "Requirement already satisfied: googleapis-common-protos<2,>=1.52.0 in c:\\users\\candy\\anaconda3\\lib\\site-packages (from tensorflow-metadata->tensorflow_datasets) (1.54.0)\n",
      "\n"
     ]
    }
   ],
   "source": [
    "\n",
    "pip install tensorflow_datasets"
   ]
  },
  {
   "cell_type": "code",
   "execution_count": 4,
   "id": "18211ddf",
   "metadata": {},
   "outputs": [],
   "source": [
    "import tensorflow_datasets as tfds"
   ]
  },
  {
   "cell_type": "code",
   "execution_count": 5,
   "id": "041d990c",
   "metadata": {},
   "outputs": [],
   "source": [
    "mnist_dataset,mnist_info=tfds.load(name='mnist',with_info=True,as_supervised=True)"
   ]
  },
  {
   "cell_type": "code",
   "execution_count": 6,
   "id": "224c896b",
   "metadata": {},
   "outputs": [],
   "source": [
    "mnist_train,mnist_test=mnist_dataset['train'],mnist_dataset['test']\n"
   ]
  },
  {
   "cell_type": "code",
   "execution_count": 7,
   "id": "6bdea132",
   "metadata": {},
   "outputs": [],
   "source": [
    "num_validation_samples=0.1*mnist_info.splits['train'].num_examples\n",
    "num_validation_samples=tf.cast(num_validation_samples,tf.int64)"
   ]
  },
  {
   "cell_type": "code",
   "execution_count": 8,
   "id": "e9d71b0d",
   "metadata": {},
   "outputs": [],
   "source": [
    "num_test_samples = mnist_info.splits['test'].num_examples\n",
    "num_test_samples=tf.cast(num_test_samples,tf.int64)\n",
    "\n",
    "num_train_samples = mnist_info.splits['train'].num_examples\n",
    "num_train_samples = tf.cast(num_train_samples,tf.int64)\n"
   ]
  },
  {
   "cell_type": "code",
   "execution_count": 9,
   "id": "ffe0b256",
   "metadata": {},
   "outputs": [],
   "source": [
    "def scale(image,label):\n",
    "    image=tf.cast(image,tf.float32)\n",
    "    image=image/255.\n",
    "    return image,label\n",
    "\n"
   ]
  },
  {
   "cell_type": "code",
   "execution_count": 10,
   "id": "2db06124",
   "metadata": {},
   "outputs": [],
   "source": [
    "scaled_train_and_validation_data=mnist_train.map(scale)"
   ]
  },
  {
   "cell_type": "code",
   "execution_count": 11,
   "id": "3261503b",
   "metadata": {},
   "outputs": [],
   "source": [
    "scaled_test_data = mnist_test.map(scale)"
   ]
  },
  {
   "cell_type": "code",
   "execution_count": 14,
   "id": "63fc25c6",
   "metadata": {},
   "outputs": [],
   "source": [
    "BUFFER_SIZE=5000;\n",
    "shuffled_scaled_and_validation_data = scaled_train_and_validation_data.shuffle(BUFFER_SIZE)"
   ]
  },
  {
   "cell_type": "code",
   "execution_count": 15,
   "id": "b4a1df61",
   "metadata": {},
   "outputs": [],
   "source": [
    "validation_data = shuffled_scaled_and_validation_data.take(num_validation_samples)"
   ]
  },
  {
   "cell_type": "code",
   "execution_count": 16,
   "id": "76833c0c",
   "metadata": {},
   "outputs": [],
   "source": [
    "train_data = shuffled_scaled_and_validation_data.skip(num_validation_samples)"
   ]
  },
  {
   "cell_type": "code",
   "execution_count": 17,
   "id": "4693a955",
   "metadata": {},
   "outputs": [],
   "source": [
    "BATCH_SIZE=50\n",
    "train_data=train_data.batch(BATCH_SIZE)"
   ]
  },
  {
   "cell_type": "code",
   "execution_count": 18,
   "id": "82a83557",
   "metadata": {},
   "outputs": [],
   "source": [
    "validation_data = validation_data.batch(num_validation_samples)"
   ]
  },
  {
   "cell_type": "code",
   "execution_count": 19,
   "id": "0141995e",
   "metadata": {},
   "outputs": [],
   "source": [
    "validation_inputs,validation_targets = next(iter(validation_data))\n"
   ]
  },
  {
   "cell_type": "code",
   "execution_count": 21,
   "id": "d3b3357b",
   "metadata": {},
   "outputs": [],
   "source": [
    "#batching of the test data \n",
    "test_data = scaled_test_data.batch(num_test_samples)"
   ]
  },
  {
   "cell_type": "code",
   "execution_count": 22,
   "id": "cd3cd288",
   "metadata": {},
   "outputs": [],
   "source": [
    "input_size = 28*28"
   ]
  },
  {
   "cell_type": "code",
   "execution_count": 23,
   "id": "46adff8c",
   "metadata": {},
   "outputs": [
    {
     "data": {
      "text/plain": [
       "784"
      ]
     },
     "execution_count": 23,
     "metadata": {},
     "output_type": "execute_result"
    }
   ],
   "source": [
    "input_size"
   ]
  },
  {
   "cell_type": "code",
   "execution_count": 26,
   "id": "23af374b",
   "metadata": {},
   "outputs": [],
   "source": [
    "output_size=10\n",
    "hidden_layer_size = 75\n",
    "#assumption made is that all thr hidden layers have the same size \n"
   ]
  },
  {
   "cell_type": "code",
   "execution_count": 27,
   "id": "a39dd867",
   "metadata": {},
   "outputs": [],
   "source": [
    "model = tf.keras.Sequential([\n",
    "    tf.keras.layers.Flatten(input_shape=(28,28,1)),\n",
    "    tf.keras.layers.Dense(hidden_layer_size,activation='relu'),\n",
    "    tf.keras.layers.Dense(hidden_layer_size,activation='relu'),\n",
    "    tf.keras.layers.Dense(output_size,activation='softmax')\n",
    "    \n",
    "    \n",
    "])"
   ]
  },
  {
   "cell_type": "code",
   "execution_count": 28,
   "id": "7eef8a82",
   "metadata": {},
   "outputs": [],
   "source": [
    "model.compile(optimizer='adam',loss='sparse_categorical_crossentropy',metrics=['accuracy'])"
   ]
  },
  {
   "cell_type": "code",
   "execution_count": 30,
   "id": "9ce7059f",
   "metadata": {},
   "outputs": [
    {
     "name": "stdout",
     "output_type": "stream",
     "text": [
      "Epoch 1/25\n",
      "1080/1080 - 5s - loss: 0.2975 - accuracy: 0.9139 - val_loss: 0.1649 - val_accuracy: 0.9512 - 5s/epoch - 4ms/step\n",
      "Epoch 2/25\n",
      "1080/1080 - 3s - loss: 0.1341 - accuracy: 0.9599 - val_loss: 0.1188 - val_accuracy: 0.9642 - 3s/epoch - 2ms/step\n",
      "Epoch 3/25\n",
      "1080/1080 - 3s - loss: 0.0972 - accuracy: 0.9700 - val_loss: 0.1267 - val_accuracy: 0.9622 - 3s/epoch - 2ms/step\n",
      "Epoch 4/25\n",
      "1080/1080 - 3s - loss: 0.0784 - accuracy: 0.9754 - val_loss: 0.0925 - val_accuracy: 0.9722 - 3s/epoch - 2ms/step\n",
      "Epoch 5/25\n",
      "1080/1080 - 3s - loss: 0.0621 - accuracy: 0.9801 - val_loss: 0.0952 - val_accuracy: 0.9727 - 3s/epoch - 3ms/step\n",
      "Epoch 6/25\n",
      "1080/1080 - 3s - loss: 0.0532 - accuracy: 0.9832 - val_loss: 0.0796 - val_accuracy: 0.9775 - 3s/epoch - 3ms/step\n",
      "Epoch 7/25\n",
      "1080/1080 - 3s - loss: 0.0441 - accuracy: 0.9861 - val_loss: 0.1031 - val_accuracy: 0.9697 - 3s/epoch - 3ms/step\n",
      "Epoch 8/25\n",
      "1080/1080 - 3s - loss: 0.0381 - accuracy: 0.9874 - val_loss: 0.0848 - val_accuracy: 0.9748 - 3s/epoch - 3ms/step\n",
      "Epoch 9/25\n",
      "1080/1080 - 3s - loss: 0.0340 - accuracy: 0.9892 - val_loss: 0.0642 - val_accuracy: 0.9822 - 3s/epoch - 3ms/step\n",
      "Epoch 10/25\n",
      "1080/1080 - 3s - loss: 0.0293 - accuracy: 0.9907 - val_loss: 0.0616 - val_accuracy: 0.9828 - 3s/epoch - 3ms/step\n",
      "Epoch 11/25\n",
      "1080/1080 - 3s - loss: 0.0253 - accuracy: 0.9918 - val_loss: 0.0683 - val_accuracy: 0.9822 - 3s/epoch - 3ms/step\n",
      "Epoch 12/25\n",
      "1080/1080 - 3s - loss: 0.0213 - accuracy: 0.9932 - val_loss: 0.0664 - val_accuracy: 0.9837 - 3s/epoch - 3ms/step\n",
      "Epoch 13/25\n",
      "1080/1080 - 3s - loss: 0.0229 - accuracy: 0.9926 - val_loss: 0.0587 - val_accuracy: 0.9847 - 3s/epoch - 3ms/step\n",
      "Epoch 14/25\n",
      "1080/1080 - 3s - loss: 0.0202 - accuracy: 0.9932 - val_loss: 0.0595 - val_accuracy: 0.9838 - 3s/epoch - 3ms/step\n",
      "Epoch 15/25\n",
      "1080/1080 - 3s - loss: 0.0156 - accuracy: 0.9949 - val_loss: 0.0476 - val_accuracy: 0.9878 - 3s/epoch - 3ms/step\n",
      "Epoch 16/25\n",
      "1080/1080 - 3s - loss: 0.0177 - accuracy: 0.9938 - val_loss: 0.0559 - val_accuracy: 0.9858 - 3s/epoch - 3ms/step\n",
      "Epoch 17/25\n",
      "1080/1080 - 3s - loss: 0.0161 - accuracy: 0.9945 - val_loss: 0.0419 - val_accuracy: 0.9888 - 3s/epoch - 3ms/step\n",
      "Epoch 18/25\n",
      "1080/1080 - 3s - loss: 0.0142 - accuracy: 0.9952 - val_loss: 0.0408 - val_accuracy: 0.9915 - 3s/epoch - 3ms/step\n",
      "Epoch 19/25\n",
      "1080/1080 - 3s - loss: 0.0122 - accuracy: 0.9956 - val_loss: 0.0399 - val_accuracy: 0.9898 - 3s/epoch - 3ms/step\n",
      "Epoch 20/25\n",
      "1080/1080 - 3s - loss: 0.0135 - accuracy: 0.9952 - val_loss: 0.0457 - val_accuracy: 0.9893 - 3s/epoch - 3ms/step\n",
      "Epoch 21/25\n",
      "1080/1080 - 3s - loss: 0.0135 - accuracy: 0.9961 - val_loss: 0.0392 - val_accuracy: 0.9898 - 3s/epoch - 3ms/step\n",
      "Epoch 22/25\n",
      "1080/1080 - 3s - loss: 0.0129 - accuracy: 0.9955 - val_loss: 0.0416 - val_accuracy: 0.9887 - 3s/epoch - 3ms/step\n",
      "Epoch 23/25\n",
      "1080/1080 - 3s - loss: 0.0118 - accuracy: 0.9958 - val_loss: 0.0253 - val_accuracy: 0.9945 - 3s/epoch - 3ms/step\n",
      "Epoch 24/25\n",
      "1080/1080 - 3s - loss: 0.0084 - accuracy: 0.9972 - val_loss: 0.0346 - val_accuracy: 0.9922 - 3s/epoch - 2ms/step\n",
      "Epoch 25/25\n",
      "1080/1080 - 3s - loss: 0.0115 - accuracy: 0.9964 - val_loss: 0.0345 - val_accuracy: 0.9908 - 3s/epoch - 2ms/step\n"
     ]
    },
    {
     "data": {
      "text/plain": [
       "<keras.callbacks.History at 0x1ed1835d670>"
      ]
     },
     "execution_count": 30,
     "metadata": {},
     "output_type": "execute_result"
    }
   ],
   "source": [
    "NUM_EPOCHS=25\n",
    "model.fit(train_data,epochs=NUM_EPOCHS,validation_data=(validation_inputs,validation_targets),verbose=2)"
   ]
  },
  {
   "cell_type": "code",
   "execution_count": 31,
   "id": "e49c18e2",
   "metadata": {},
   "outputs": [
    {
     "name": "stdout",
     "output_type": "stream",
     "text": [
      "1/1 [==============================] - 1s 613ms/step - loss: 0.1360 - accuracy: 0.9750\n"
     ]
    }
   ],
   "source": [
    "test_loss,test_accuracy = model.evaluate(test_data)\n"
   ]
  },
  {
   "cell_type": "code",
   "execution_count": 32,
   "id": "0bc05d45",
   "metadata": {},
   "outputs": [
    {
     "ename": "SyntaxError",
     "evalue": "invalid syntax (<ipython-input-32-f188d5ac1197>, line 1)",
     "output_type": "error",
     "traceback": [
      "\u001b[1;36m  File \u001b[1;32m\"<ipython-input-32-f188d5ac1197>\"\u001b[1;36m, line \u001b[1;32m1\u001b[0m\n\u001b[1;33m    git init\u001b[0m\n\u001b[1;37m        ^\u001b[0m\n\u001b[1;31mSyntaxError\u001b[0m\u001b[1;31m:\u001b[0m invalid syntax\n"
     ]
    }
   ],
   "source": []
  },
  {
   "cell_type": "code",
   "execution_count": null,
   "id": "38dcd1c2",
   "metadata": {},
   "outputs": [],
   "source": []
  }
 ],
 "metadata": {
  "kernelspec": {
   "display_name": "Python 3",
   "language": "python",
   "name": "python3"
  },
  "language_info": {
   "codemirror_mode": {
    "name": "ipython",
    "version": 3
   },
   "file_extension": ".py",
   "mimetype": "text/x-python",
   "name": "python",
   "nbconvert_exporter": "python",
   "pygments_lexer": "ipython3",
   "version": "3.8.8"
  }
 },
 "nbformat": 4,
 "nbformat_minor": 5
}
